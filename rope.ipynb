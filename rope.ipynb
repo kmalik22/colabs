{
  "nbformat": 4,
  "nbformat_minor": 0,
  "metadata": {
    "colab": {
      "provenance": [],
      "authorship_tag": "ABX9TyND/5CQHg7srAC7Nn3udTvs",
      "include_colab_link": true
    },
    "kernelspec": {
      "name": "python3",
      "display_name": "Python 3"
    },
    "language_info": {
      "name": "python"
    }
  },
  "cells": [
    {
      "cell_type": "markdown",
      "metadata": {
        "id": "view-in-github",
        "colab_type": "text"
      },
      "source": [
        "<a href=\"https://colab.research.google.com/github/kmalik22/colabs/blob/main/rope.ipynb\" target=\"_parent\"><img src=\"https://colab.research.google.com/assets/colab-badge.svg\" alt=\"Open In Colab\"/></a>"
      ]
    },
    {
      "cell_type": "code",
      "execution_count": 43,
      "metadata": {
        "id": "gNj3Fjd4M9Xu"
      },
      "outputs": [],
      "source": [
        "import torch\n",
        "import numpy as np\n",
        "\n",
        "def create_one_rope_matrix(self, angle: float):\n",
        "    return [[np.cos(angle), np.sin(angle)], [-np.sin(angle), np.cos(angle)]]\n",
        "\n",
        "def create_rope_matrices(self, theta: float, max_seqlen: int, d_k: int):\n",
        "    # TODO: vectorize\n",
        "    d_k_by_2 = d_k//2\n",
        "    all = []\n",
        "    for pos in range(max_seqlen):\n",
        "        pos_list = []\n",
        "        for dim_by_2 in range(d_k_by_2):\n",
        "            angle = pos/(theta)**(2*dim_by_2/d_k)\n",
        "            mat = create_one_rope_matrix(self, angle)\n",
        "            pos_list.append(mat)\n",
        "        all.append(pos_list)\n",
        "    return torch.tensor(all, dtype=torch.float32)\n"
      ]
    },
    {
      "cell_type": "code",
      "source": [
        "def t_create_rope_matrices(theta, max_seqlen, d_k):\n",
        "  # create all angles: max_seq_len, d_k//2\n",
        "  # create numerator and denom separately\n",
        "  # numerators: (max_seqlen, d_k//2)\n",
        "  numerators = torch.arange(max_seqlen).unsqueeze(1).expand(-1, d_k//2)\n",
        "\n",
        "  # denominators: (max_seqlen, d_k//2)\n",
        "  denominators = theta ** (2*torch.arange(d_k//2)/d_k).unsqueeze(0) # (1, d_k//2)\n",
        "  denominators = denominators.expand(max_seqlen, -1)\n",
        "  angles = numerators/denominators\n",
        "  cosines = torch.cos(angles) #(max_seqlen, d_k//2)\n",
        "  sines = torch.sin(angles)\n",
        "  stacked = torch.stack([cosines, sines, -sines, cosines], dim=2) # (max_seqlen, d_k//2, 4)\n",
        "  reshaped = stacked.reshape(max_seqlen, d_k//2, 2, 2)\n",
        "  return reshaped\n"
      ],
      "metadata": {
        "id": "_KYLyURQRmVB"
      },
      "execution_count": 51,
      "outputs": []
    },
    {
      "cell_type": "code",
      "source": [
        "MAX_SEQLEN=2\n",
        "D_K=8\n",
        "THETA=100\n",
        "r = create_rope_matrices(None, THETA, max_seqlen=2, d_k=8)\n",
        "assert r.shape == (MAX_SEQLEN, D_K//2, 2, 2)\n",
        "print(f\"Shapes match\")"
      ],
      "metadata": {
        "colab": {
          "base_uri": "https://localhost:8080/",
          "height": 0
        },
        "id": "issZUDWVNDDc",
        "outputId": "b38f93f4-1f5f-4b6f-e279-994fe292d9ea"
      },
      "execution_count": 16,
      "outputs": [
        {
          "output_type": "stream",
          "name": "stdout",
          "text": [
            "Shapes match\n"
          ]
        }
      ]
    },
    {
      "cell_type": "code",
      "source": [
        "assert(torch.allclose(t_create_rope_matrices(THETA, MAX_SEQLEN, D_K), create_rope_matrices(None, THETA, max_seqlen=2, d_k=8)))\n",
        "print(\"Things match\")"
      ],
      "metadata": {
        "colab": {
          "base_uri": "https://localhost:8080/"
        },
        "id": "7mwqkAxkNIPZ",
        "outputId": "e591b802-52fa-4255-8ed1-ec91db27b171"
      },
      "execution_count": 52,
      "outputs": [
        {
          "output_type": "stream",
          "name": "stdout",
          "text": [
            "Things match\n"
          ]
        }
      ]
    },
    {
      "cell_type": "code",
      "source": [],
      "metadata": {
        "id": "UVjp0wdNS1kx"
      },
      "execution_count": null,
      "outputs": []
    }
  ]
}